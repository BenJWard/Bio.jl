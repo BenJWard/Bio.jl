{
 "cells": [
  {
   "cell_type": "markdown",
   "metadata": {},
   "source": [
    "Struc\n",
    "===\n",
    "\n",
    "This notebook outlines some features of the Struc module and acts as working documentation.\n",
    "\n",
    "To download a Protein Data Bank (PDB) file:"
   ]
  },
  {
   "cell_type": "code",
   "execution_count": 1,
   "metadata": {
    "collapsed": false
   },
   "outputs": [
    {
     "name": "stderr",
     "output_type": "stream",
     "text": [
      "  % Total    % Received % Xferd  Average Speed   Time    Time     Time  Current\n",
      "                                 Dload  Upload   Total   Spent    Left  Speed\n",
      "100  107k    0  107k    0     0   203k      0 --:--:-- --:--:-- --:--:--  204k\n"
     ]
    },
    {
     "data": {
      "text/plain": [
       "\"1EN2.pdb\""
      ]
     },
     "execution_count": 1,
     "metadata": {},
     "output_type": "execute_result"
    }
   ],
   "source": [
    "using Bio.Structure\n",
    "downloadpdb(\"1EN2\")"
   ]
  },
  {
   "cell_type": "markdown",
   "metadata": {},
   "source": [
    "To parse a PDB file into a Structure-Model-Chain-Residue-Atom model:"
   ]
  },
  {
   "cell_type": "code",
   "execution_count": 2,
   "metadata": {
    "collapsed": false,
    "scrolled": true
   },
   "outputs": [
    {
     "data": {
      "text/plain": [
       "Name                 -  1EN2.pdb\n",
       "No models            -  1\n",
       "Chain(s)             -  A\n",
       "No residues          -  85\n",
       "No point mutations   -  5\n",
       "No other molecules   -  5\n",
       "No water molecules   -  76\n",
       "No atoms             -  614\n",
       "No H atoms           -  0\n",
       "No disordered atoms  -  27\n"
      ]
     },
     "execution_count": 2,
     "metadata": {},
     "output_type": "execute_result"
    }
   ],
   "source": [
    "struc = read(\"1EN2.pdb\", PDB)"
   ]
  },
  {
   "cell_type": "markdown",
   "metadata": {},
   "source": [
    "The elements of `struc` can be accessed as follows:"
   ]
  },
  {
   "cell_type": "code",
   "execution_count": 3,
   "metadata": {
    "collapsed": false
   },
   "outputs": [
    {
     "data": {
      "text/plain": [
       "ATOM    101  CG ALEU A  15       0.485   1.257  26.672   0.5 18.92           C  "
      ]
     },
     "execution_count": 3,
     "metadata": {},
     "output_type": "execute_result"
    }
   ],
   "source": [
    "struc[1]                  # Model 1\n",
    "struc[1]['A']             # Model 1, chain A\n",
    "struc['A']                # A shortcut to Model 1, chain A\n",
    "struc['A'][\"50\"]          # Model 1, chain A, residue 50\n",
    "struc['A'][50]            # A shortcut to Model 1, chain A, residue 50 if it is not\n",
    "                          #     a hetero residue and the insertion code is blank\n",
    "struc['A'][\"H_90\"]        # Model 1, chain A, hetero residue 215\n",
    "struc['A'][50][\"CA\"]      # Model 1, chain A, residue 50, atom name CA\n",
    "struc['A'][15][\"CG\"]['A'] # For disordered atoms, access a specific location"
   ]
  },
  {
   "cell_type": "markdown",
   "metadata": {},
   "source": [
    "Disordered atoms are stored in a `DisorderedAtoms` container but calls fall back to the default atom, so disorder can be ignored if you are not interested in it.\n",
    "\n",
    "Disordered residues (i.e. point mutations with different residue names) are stored in a `DisorderedResidue` container.\n",
    "\n",
    "The idea is that disorder will only bother you if you want it to. See the Biopython discussion for more:\n",
    "\n",
    "http://biopython.org/wiki/The_Biopython_Structural_Bioinformatics_FAQ#How_is_disorder_handled.3F\n",
    "\n",
    "Properties can be retrieved as follows:"
   ]
  },
  {
   "cell_type": "code",
   "execution_count": 4,
   "metadata": {
    "collapsed": false
   },
   "outputs": [
    {
     "data": {
      "text/plain": [
       "\"\""
      ]
     },
     "execution_count": 4,
     "metadata": {},
     "output_type": "execute_result"
    }
   ],
   "source": [
    "strucname(struc)\n",
    "modelnumbers(struc)\n",
    "\n",
    "model = struc[1]\n",
    "modelnumber(model)\n",
    "chainids(model)\n",
    "\n",
    "chain = struc['A']\n",
    "chainid(chain)\n",
    "resids(chain)\n",
    "\n",
    "res = struc['A'][50]\n",
    "resname(res)\n",
    "chainid(res)\n",
    "resnumber(res)\n",
    "inscode(res)\n",
    "ishetres(res)    # True if the residue consists of hetatoms\n",
    "atomnames(res)\n",
    "\n",
    "atom = struc['A'][50][\"CA\"]\n",
    "ishetatom(atom)\n",
    "serial(atom)\n",
    "atomname(atom)\n",
    "altlocid(atom)\n",
    "resname(atom)\n",
    "chainid(atom)\n",
    "resnumber(atom)\n",
    "inscode(atom)\n",
    "x(atom)\n",
    "y(atom)\n",
    "z(atom)\n",
    "coords(atom)\n",
    "occupancy(atom)\n",
    "tempfac(atom)\n",
    "element(atom)\n",
    "charge(atom)"
   ]
  },
  {
   "cell_type": "markdown",
   "metadata": {},
   "source": [
    "You can loop over elements to reveal the sub-elements in the correct order:"
   ]
  },
  {
   "cell_type": "code",
   "execution_count": 5,
   "metadata": {
    "collapsed": false
   },
   "outputs": [],
   "source": [
    "for model in struc\n",
    "    for chain in model\n",
    "        for res in chain\n",
    "            for atom in res\n",
    "                # Do something\n",
    "            end\n",
    "        end\n",
    "    end\n",
    "end"
   ]
  },
  {
   "cell_type": "markdown",
   "metadata": {},
   "source": [
    "`collect`, `collectresidues` and `collectatoms` can be used to get lists of sub-elements.\n",
    "\n",
    "Selectors are functions passed as additional arguments to the `collectresidues` and `collectatoms`. Only residues/atoms that return `true` when passed to the selector are retained."
   ]
  },
  {
   "cell_type": "code",
   "execution_count": 6,
   "metadata": {
    "collapsed": false
   },
   "outputs": [
    {
     "name": "stdout",
     "output_type": "stream",
     "text": [
      "\n",
      "\n"
     ]
    },
    {
     "data": {
      "text/plain": [
       "2-element Array{Bio.Struc.AbstractAtom,1}:\n",
       " ATOM    109  CA AARG A  16        4.28   3.162  22.014  0.22 13.26           C  ATOM    110  CA BARG A  16        4.28   3.162  22.014  0.22 13.26           C  \n",
       " ATOM    611  CA AGLY A  79       9.821 -11.505  25.585  0.56 32.16           C  ATOM    612  CA BGLY A  79      10.123 -11.952  25.726  0.44 32.77           C  "
      ]
     },
     "execution_count": 6,
     "metadata": {},
     "output_type": "execute_result"
    }
   ],
   "source": [
    "collect(struc['A'][50])  # Collect all the sub-elements of a residue, which are its atoms\n",
    "collectresidues(struc)   # Collect all the residues in the structure\n",
    "collectatoms(struc)      # Collect all the atoms in the structure\n",
    "collectatoms(struc, calphaselector)    # Collect all C-alpha atoms in the structure\n",
    "collectatoms(struc, calphaselector, disorderselector)    # Collect all disordered C-alpha atoms in the structure"
   ]
  },
  {
   "cell_type": "markdown",
   "metadata": {},
   "source": [
    "It is easy to define your own selector:"
   ]
  },
  {
   "cell_type": "code",
   "execution_count": 7,
   "metadata": {
    "collapsed": false
   },
   "outputs": [
    {
     "data": {
      "text/plain": [
       "137-element Array{Bio.Struc.AbstractAtom,1}:\n",
       " ATOM      9  N   ARG A   2      -2.607   4.673  13.504   1.0 20.57           N  \n",
       " ATOM     10  CA  ARG A   2      -3.091    6.01  13.918   1.0 20.82           C  \n",
       " ATOM     11  C   ARG A   2      -3.361   6.101  15.403   1.0 19.55           C  \n",
       " ATOM     12  O   ARG A   2      -3.742   5.121   16.05   1.0 19.99           O  \n",
       " ATOM     13  CB  ARG A   2      -4.348   6.395  13.124   1.0  25.3           C  \n",
       " ATOM     14  CG  ARG A   2       -4.11   6.337  11.619   1.0 30.98           C  \n",
       " ATOM     15  CD  ARG A   2      -4.277   7.652  10.942   1.0 31.79           C  \n",
       " ATOM     16  NE  ARG A   2      -3.441    8.73  11.457   1.0 31.91           N  \n",
       " ATOM     17  CZ  ARG A   2       -3.55   9.979   10.98   1.0 31.95           C  \n",
       " ATOM     18  NH1 ARG A   2      -4.444  10.212  10.022   1.0 33.34           N  \n",
       " ATOM     19  NH2 ARG A   2      -2.804  10.949  11.444   1.0 29.59           N  \n",
       " ATOM     20  N   CYS A   3      -3.248   7.317  15.948   1.0 15.71           N  \n",
       " ATOM     21  CA  CYS A   3      -3.419   7.555  17.361   1.0 14.13           C  \n",
       " ⋮                                                                               \n",
       " HETATM  787  O   HOH A 136      -3.992   5.719  31.647   1.0 53.05           O  \n",
       " HETATM  788  O   HOH A 137      -0.321  12.255   8.483   1.0 35.86           O  \n",
       " HETATM  790  O   HOH A 139      -3.066   4.753  29.076   1.0 40.05           O  \n",
       " HETATM  791  O   HOH A 140      -0.945   1.949   9.712   1.0 36.88           O  \n",
       " HETATM  792  O   HOH A 141      -7.059   6.398  16.836   1.0  36.0           O  \n",
       " HETATM  794  O   HOH A 143      -6.832   2.828  21.276   1.0 40.92           O  \n",
       " HETATM  798  O   HOH A 147      -2.996   7.951  27.405   1.0 35.06           O  \n",
       " HETATM  799  O   HOH A 148      -4.774   1.179  18.535   1.0 46.84           O  \n",
       " HETATM  801  O   HOH A 150      -8.668  12.634   15.67   1.0 40.31           O  \n",
       " HETATM  810  O   HOH A 159      -4.389   3.044   11.77   1.0 43.85           O  \n",
       " HETATM  814  O   HOH A 163      -6.184   3.543  26.723   1.0  45.9           O  \n",
       " HETATM  819  O   HOH A 168      -0.903   8.986  28.883   1.0 45.39           O  "
      ]
     },
     "execution_count": 7,
     "metadata": {},
     "output_type": "execute_result"
    }
   ],
   "source": [
    "xselector(atom::AbstractAtom) = getx(atom) < 0\n",
    "collectatoms(struc, xselector)    # Collect all atoms with x coordinate less than 0"
   ]
  },
  {
   "cell_type": "markdown",
   "metadata": {},
   "source": [
    "`organise`, `organisemodel` and `organisestruc` can be used to organise sub-elements into elements:"
   ]
  },
  {
   "cell_type": "code",
   "execution_count": 8,
   "metadata": {
    "collapsed": false
   },
   "outputs": [
    {
     "data": {
      "text/plain": [
       "Name                 -  \n",
       "No models            -  1\n",
       "Chain(s)             -  A\n",
       "No residues          -  85\n",
       "No point mutations   -  0\n",
       "No other molecules   -  5\n",
       "No water molecules   -  76\n",
       "No atoms             -  614\n",
       "No H atoms           -  0\n",
       "No disordered atoms  -  27\n"
      ]
     },
     "execution_count": 8,
     "metadata": {},
     "output_type": "execute_result"
    },
    {
     "name": "stdout",
     "output_type": "stream",
     "text": [
      "\n",
      "\n",
      "\n",
      "\n",
      "\n",
      "\n",
      "\n",
      "\n",
      "\n",
      "\n"
     ]
    }
   ],
   "source": [
    "organise(collectatoms(struc))      # Organise an atom list into a residue list\n",
    "organise(collectresidues(struc))   # Organise a residue list into a chain list\n",
    "organise(struc['A'])               # Organise chain(s) into a model\n",
    "organise(struc[1])                 # Organise model(s) into a structure\n",
    "organisemodel(collectatoms(struc)) # Organise an atom list into a model\n",
    "organisestruc(collectatoms(struc)) # Organise an atom list into a structure"
   ]
  },
  {
   "cell_type": "markdown",
   "metadata": {},
   "source": [
    "PDB format files can be written:"
   ]
  },
  {
   "cell_type": "code",
   "execution_count": 9,
   "metadata": {
    "collapsed": true
   },
   "outputs": [],
   "source": [
    "writepdb(\"temp.pdb\", struc)"
   ]
  },
  {
   "cell_type": "markdown",
   "metadata": {},
   "source": [
    "Distances can be calculated:"
   ]
  },
  {
   "cell_type": "code",
   "execution_count": 10,
   "metadata": {
    "collapsed": false
   },
   "outputs": [
    {
     "data": {
      "text/plain": [
       "10.782158874733762"
      ]
     },
     "execution_count": 10,
     "metadata": {},
     "output_type": "execute_result"
    }
   ],
   "source": [
    "dist(struc['A'][10], struc['A'][20]) # Minimum distance between residue 10 and 20\n",
    "struc['A'][10] - struc['A'][20]         # Shortcut using minus operator"
   ]
  },
  {
   "cell_type": "markdown",
   "metadata": {},
   "source": [
    "RMSDs/displacements between elements of the same size can also be calculated."
   ]
  }
 ],
 "metadata": {
  "kernelspec": {
   "display_name": "Julia 0.4.1-pre",
   "language": "julia",
   "name": "julia-0.4"
  },
  "language_info": {
   "file_extension": ".jl",
   "mimetype": "application/julia",
   "name": "julia",
   "version": "0.4.1"
  }
 },
 "nbformat": 4,
 "nbformat_minor": 0
}
